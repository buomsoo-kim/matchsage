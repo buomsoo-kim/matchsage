{
 "cells": [
  {
   "cell_type": "code",
   "execution_count": 1,
   "id": "f966bef9-860e-4e44-8467-5e5710ec545b",
   "metadata": {},
   "outputs": [],
   "source": [
    "import numpy as np\n",
    "import pandas as pd\n",
    "\n",
    "from collections import Counter\n",
    "from tqdm.notebook import tqdm\n",
    "\n",
    "from sklearn.metrics import *\n",
    "from utils.eval import *\n",
    "from utils.funcs import *"
   ]
  },
  {
   "cell_type": "code",
   "execution_count": 2,
   "id": "425e2cd1-c073-44a0-bb9b-a2c33b16b957",
   "metadata": {},
   "outputs": [
    {
     "name": "stdout",
     "output_type": "stream",
     "text": [
      "21392\n"
     ]
    },
    {
     "data": {
      "application/vnd.jupyter.widget-view+json": {
       "model_id": "5d8c8da047944fbcb317fcc4a6c8f637",
       "version_major": 2,
       "version_minor": 0
      },
      "text/plain": [
       "  0%|          | 0/21392 [00:00<?, ?it/s]"
      ]
     },
     "metadata": {},
     "output_type": "display_data"
    }
   ],
   "source": [
    "data = pd.read_csv(\"../data/User Interaction Data/dating_suggestions.csv\")\n",
    "\n",
    "test_period_start, test_period_end = '2022-02-01', '2022-02-15'\n",
    "train_interaction = data[(data['created_at'] > '2021-11-30') & (data['created_at'] < test_period_start)]\n",
    "test_interaction = data[(data['created_at'] > test_period_start) & (data['created_at'] < test_period_end)]\n",
    "\n",
    "unique_users = list(set(pd.concat([train_interaction[\"source_id\"], train_interaction[\"user_id\"]])))\n",
    "test_interaction = test_interaction[(test_interaction[\"user_id\"].isin(unique_users)) & (test_interaction[\"source_id\"].isin(unique_users))]\n",
    "print(len(unique_users))\n",
    "\n",
    "user_to_idx, idx_to_user = {}, {}\n",
    "for i in tqdm(range(len(unique_users))):\n",
    "  user_to_idx[unique_users[i]] = i\n",
    "  idx_to_user[i] = unique_users[i]"
   ]
  },
  {
   "cell_type": "code",
   "execution_count": 3,
   "id": "9b9ffdc5-fb69-4e8f-a27d-0e4505d246a0",
   "metadata": {},
   "outputs": [],
   "source": [
    "def jaccard(list1, list2):\n",
    "    intersection = len(list(set(list1).intersection(list2)))\n",
    "    union = (len(list1) + len(list2)) - intersection\n",
    "    return float(intersection) / union\n",
    "\n",
    "def cf4(uid, sid):\n",
    "    sxy, syx = 0, 0\n",
    "        \n",
    "    nei1 = train_accepted[train_accepted[\"source_id\"] == sid][\"user_id\"].values\n",
    "    nei2 = train_accepted[train_accepted[\"user_id\"] == uid][\"source_id\"].values\n",
    "\n",
    "    if len(nei1) > 0:\n",
    "        for u in nei1:\n",
    "            sxy += jaccard(train_accepted[train_accepted[\"user_id\"] == u][\"source_id\"].values, nei2)\n",
    "        sxy = sxy/len(nei1)\n",
    "\n",
    "    if len(nei2) >0:\n",
    "        for v in nei2:\n",
    "            syx += jaccard(train_accepted[train_accepted[\"source_id\"] == v][\"user_id\"].values, nei1)\n",
    "        syx = syx/len(nei2)\n",
    "\n",
    "    if sxy >0 and syx > 0:\n",
    "        return 2/((1/sxy) +(1/syx))\n",
    "    else:\n",
    "        return 0"
   ]
  },
  {
   "cell_type": "code",
   "execution_count": 3,
   "id": "b17df073-a550-433f-888a-d02b09c55cf3",
   "metadata": {},
   "outputs": [],
   "source": [
    "np.random.seed(777)\n",
    "num_train, num_test = 1000000, 50000\n",
    "\n",
    "idx = np.random.choice(np.arange(len(train_interaction)), num_train, replace=False)\n",
    "train_data = train_interaction.iloc[idx]\n",
    "train_accepted = train_data[train_data[\"accepted\"] == 1]\n",
    "\n",
    "idx = np.random.choice(np.arange(len(test_interaction)), num_test, replace=False)\n",
    "test_data = test_interaction.iloc[idx]\n",
    "\n",
    "cnt = Counter(train_interaction['user_id'])\n",
    "unique_test_users = test_interaction['user_id'].unique()\n",
    "to_include = []\n",
    "threshold = 10\n",
    "for u in unique_test_users:\n",
    "  if cnt[u] > threshold:\n",
    "    to_include.append(u)\n",
    "\n",
    "test_data = test_interaction[test_interaction['user_id'].isin(to_include)]"
   ]
  },
  {
   "cell_type": "code",
   "execution_count": 8,
   "id": "add77515-5192-4927-9fe3-7d86b02cbcf3",
   "metadata": {},
   "outputs": [
    {
     "data": {
      "text/html": [
       "<div>\n",
       "<style scoped>\n",
       "    .dataframe tbody tr th:only-of-type {\n",
       "        vertical-align: middle;\n",
       "    }\n",
       "\n",
       "    .dataframe tbody tr th {\n",
       "        vertical-align: top;\n",
       "    }\n",
       "\n",
       "    .dataframe thead th {\n",
       "        text-align: right;\n",
       "    }\n",
       "</style>\n",
       "<table border=\"1\" class=\"dataframe\">\n",
       "  <thead>\n",
       "    <tr style=\"text-align: right;\">\n",
       "      <th></th>\n",
       "      <th>user_id</th>\n",
       "      <th>source_id</th>\n",
       "      <th>created_at</th>\n",
       "      <th>accepted</th>\n",
       "    </tr>\n",
       "  </thead>\n",
       "  <tbody>\n",
       "    <tr>\n",
       "      <th>3476030</th>\n",
       "      <td>243387</td>\n",
       "      <td>261223</td>\n",
       "      <td>2022-01-07 09:25:50</td>\n",
       "      <td>1.0</td>\n",
       "    </tr>\n",
       "    <tr>\n",
       "      <th>903268</th>\n",
       "      <td>104601</td>\n",
       "      <td>254963</td>\n",
       "      <td>2021-12-01 20:03:58</td>\n",
       "      <td>1.0</td>\n",
       "    </tr>\n",
       "    <tr>\n",
       "      <th>366899</th>\n",
       "      <td>257106</td>\n",
       "      <td>27804</td>\n",
       "      <td>2022-01-07 03:16:59</td>\n",
       "      <td>1.0</td>\n",
       "    </tr>\n",
       "    <tr>\n",
       "      <th>4337033</th>\n",
       "      <td>88</td>\n",
       "      <td>260593</td>\n",
       "      <td>2022-01-18 10:13:04</td>\n",
       "      <td>1.0</td>\n",
       "    </tr>\n",
       "    <tr>\n",
       "      <th>827645</th>\n",
       "      <td>155263</td>\n",
       "      <td>254694</td>\n",
       "      <td>2021-12-01 01:17:34</td>\n",
       "      <td>1.0</td>\n",
       "    </tr>\n",
       "    <tr>\n",
       "      <th>...</th>\n",
       "      <td>...</td>\n",
       "      <td>...</td>\n",
       "      <td>...</td>\n",
       "      <td>...</td>\n",
       "    </tr>\n",
       "    <tr>\n",
       "      <th>5122472</th>\n",
       "      <td>228682</td>\n",
       "      <td>266915</td>\n",
       "      <td>2022-01-30 09:40:08</td>\n",
       "      <td>1.0</td>\n",
       "    </tr>\n",
       "    <tr>\n",
       "      <th>2747641</th>\n",
       "      <td>118430</td>\n",
       "      <td>259878</td>\n",
       "      <td>2021-12-28 13:44:31</td>\n",
       "      <td>1.0</td>\n",
       "    </tr>\n",
       "    <tr>\n",
       "      <th>554596</th>\n",
       "      <td>266190</td>\n",
       "      <td>3707</td>\n",
       "      <td>2022-01-25 10:22:20</td>\n",
       "      <td>1.0</td>\n",
       "    </tr>\n",
       "    <tr>\n",
       "      <th>1862412</th>\n",
       "      <td>226503</td>\n",
       "      <td>257624</td>\n",
       "      <td>2021-12-15 11:41:56</td>\n",
       "      <td>1.0</td>\n",
       "    </tr>\n",
       "    <tr>\n",
       "      <th>5046748</th>\n",
       "      <td>218315</td>\n",
       "      <td>266939</td>\n",
       "      <td>2022-01-29 01:39:30</td>\n",
       "      <td>1.0</td>\n",
       "    </tr>\n",
       "  </tbody>\n",
       "</table>\n",
       "<p>166711 rows × 4 columns</p>\n",
       "</div>"
      ],
      "text/plain": [
       "         user_id  source_id           created_at  accepted\n",
       "3476030   243387     261223  2022-01-07 09:25:50       1.0\n",
       "903268    104601     254963  2021-12-01 20:03:58       1.0\n",
       "366899    257106      27804  2022-01-07 03:16:59       1.0\n",
       "4337033       88     260593  2022-01-18 10:13:04       1.0\n",
       "827645    155263     254694  2021-12-01 01:17:34       1.0\n",
       "...          ...        ...                  ...       ...\n",
       "5122472   228682     266915  2022-01-30 09:40:08       1.0\n",
       "2747641   118430     259878  2021-12-28 13:44:31       1.0\n",
       "554596    266190       3707  2022-01-25 10:22:20       1.0\n",
       "1862412   226503     257624  2021-12-15 11:41:56       1.0\n",
       "5046748   218315     266939  2022-01-29 01:39:30       1.0\n",
       "\n",
       "[166711 rows x 4 columns]"
      ]
     },
     "execution_count": 8,
     "metadata": {},
     "output_type": "execute_result"
    }
   ],
   "source": [
    "train_accepted"
   ]
  },
  {
   "cell_type": "code",
   "execution_count": 10,
   "id": "34375b8f-ae8e-4e9f-ad8d-4befe5a20e53",
   "metadata": {},
   "outputs": [
    {
     "data": {
      "application/vnd.jupyter.widget-view+json": {
       "model_id": "e71c4a7e3f564b66aff8513f89fb72f0",
       "version_major": 2,
       "version_minor": 0
      },
      "text/plain": [
       "  0%|          | 0/155157 [00:00<?, ?it/s]"
      ]
     },
     "metadata": {},
     "output_type": "display_data"
    }
   ],
   "source": [
    "uids, sids = test_data['user_id'].values, test_data['source_id'].values\n",
    "y_pred  =[]\n",
    "\n",
    "for i in tqdm(range(len(test_data))):\n",
    "    y_pred.append(cf4(uids[i], sids[i],train_accepted))"
   ]
  },
  {
   "cell_type": "code",
   "execution_count": 11,
   "id": "4c8ead11-dc0c-46c0-9371-a5e194ef2de5",
   "metadata": {},
   "outputs": [
    {
     "name": "stdout",
     "output_type": "stream",
     "text": [
      "ROAUC:  0.6855450393372671\n",
      "PRAUC:  0.2889522051482133\n"
     ]
    }
   ],
   "source": [
    "y_test = test_data[\"accepted\"].values\n",
    "\n",
    "print(\"ROAUC: \", roc_auc_score(y_test, y_pred))\n",
    "print(\"PRAUC: \", average_precision_score(y_test, y_pred))  "
   ]
  },
  {
   "cell_type": "code",
   "execution_count": 12,
   "id": "ba2a83e9-c641-4d8c-85a8-26c290381bc4",
   "metadata": {},
   "outputs": [
    {
     "name": "stderr",
     "output_type": "stream",
     "text": [
      "/var/folders/n6/f4v86wq94nj88yj3rkk1jqt4msrld0/T/ipykernel_96295/4039261786.py:2: SettingWithCopyWarning: \n",
      "A value is trying to be set on a copy of a slice from a DataFrame.\n",
      "Try using .loc[row_indexer,col_indexer] = value instead\n",
      "\n",
      "See the caveats in the documentation: https://pandas.pydata.org/pandas-docs/stable/user_guide/indexing.html#returning-a-view-versus-a-copy\n",
      "  test_data[\"y_prob\"] = y_pred\n"
     ]
    },
    {
     "name": "stdout",
     "output_type": "stream",
     "text": [
      "1 0.10904895884741109 0.5718700039338468\n",
      "2 0.20908038446953933 0.5643696845054651\n",
      "3 0.3016051860266215 0.5516562495410107\n",
      "4 0.37531795319423344 0.5533591851918221\n",
      "5 0.43800737949670815 0.5627600559759443\n",
      "6 0.4922786018251689 0.5741648965729019\n",
      "7 0.538833314711305 0.5861800427643881\n",
      "8 0.5773189309486506 0.5960539380090132\n",
      "9 0.6119211876977428 0.6069827459522013\n",
      "10 0.6429012106995483 0.6170697705984763\n"
     ]
    }
   ],
   "source": [
    "unique_test_users = test_data[\"user_id\"].unique()\n",
    "test_data[\"y_prob\"] = y_pred\n",
    "\n",
    "ks = np.arange(1, 11)\n",
    "# ks = [10]\n",
    "\n",
    "for k in ks:\n",
    "  hrs, ndcgs= [], []\n",
    "  for uid in unique_test_users:\n",
    "    pdf = test_data[test_data[\"user_id\"] == uid]\n",
    "    gt = pdf[pdf[\"accepted\"]== 1][\"source_id\"].values\n",
    "    pr = pdf[\"y_prob\"].values\n",
    "    items = pdf[\"source_id\"].values\n",
    "    if len(gt) > 2:\n",
    "      hrs.append(hit_ratio(gt, items, pr, k))\n",
    "      ndcgs.append(ndcg(gt, items, pr, k))\n",
    "  print(k, np.mean(hrs), np.mean(ndcgs))"
   ]
  },
  {
   "cell_type": "code",
   "execution_count": null,
   "id": "5eca4dd9-33cc-4d5f-b2aa-652e7ce53a19",
   "metadata": {},
   "outputs": [],
   "source": []
  }
 ],
 "metadata": {
  "kernelspec": {
   "display_name": "Python 3.10 (pytorch)",
   "language": "python",
   "name": "pytorch"
  },
  "language_info": {
   "codemirror_mode": {
    "name": "ipython",
    "version": 3
   },
   "file_extension": ".py",
   "mimetype": "text/x-python",
   "name": "python",
   "nbconvert_exporter": "python",
   "pygments_lexer": "ipython3",
   "version": "3.10.12"
  }
 },
 "nbformat": 4,
 "nbformat_minor": 5
}
